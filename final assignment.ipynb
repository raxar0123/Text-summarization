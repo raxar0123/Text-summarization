{
 "cells": [
  {
   "cell_type": "code",
   "execution_count": 4,
   "id": "f5b9f5b6",
   "metadata": {
    "scrolled": true
   },
   "outputs": [
    {
     "name": "stdout",
     "output_type": "stream",
     "text": [
      "Summary:  [19] Wikipedia began as a complementary project for Nupedia, a free online English-language encyclopedia project whose articles were written by experts and reviewed under a formal process. [1][21] Nupedia was initially licensed under its own Nupedia Open Content License, but before Wikipedia was founded, Nupedia switched to the GNU Free Documentation License at the urging of Richard Stallman. [25] On January 10, 2001, Sanger proposed on the Nupedia mailing list to create a wiki as a \"feeder\" project for Nupedia. [26]\n",
      "\n",
      "Launch and growth\n",
      "The domains wikipedia.com (later redirecting to wikipedia.org) and wikipedia.org were registered on January 12, 2001,[27] and January 13, 2001,[28] respectively. Wikipedia was launched on January 15, 2001[20] as a single English-language edition at www.wikipedia.com,[29] and was announced by Sanger on the Nupedia mailing list. [33]\n",
      "\n",
      "\n",
      "The Wikipedia home page on December 20, 2001[note 5]\n",
      "\n",
      "Graphs are unavailable due to technical issues.\n"
     ]
    }
   ],
   "source": [
    "import nltk \n",
    "from nltk.corpus import stopwords \n",
    "from nltk.tokenize import word_tokenize, sent_tokenize \n",
    "   \n",
    "# Input text - to summarize  \n",
    "text = \"\"\"Various collaborative online encyclopedias were attempted before the start of Wikipedia, but with limited success.[19] Wikipedia began as a complementary project for Nupedia, a free online English-language encyclopedia project whose articles were written by experts and reviewed under a formal process.[20] It was founded on March 9, 2000, under the ownership of Bomis, a web portal company. Its main figures were Bomis CEO Jimmy Wales and Larry Sanger, editor-in-chief for Nupedia and later Wikipedia.[1][21] Nupedia was initially licensed under its own Nupedia Open Content License, but before Wikipedia was founded, Nupedia switched to the GNU Free Documentation License at the urging of Richard Stallman.[22] Wales is credited with defining the goal of making a publicly editable encyclopedia,[23][24] while Sanger is credited with the strategy of using a wiki to reach that goal.[25] On January 10, 2001, Sanger proposed on the Nupedia mailing list to create a wiki as a \"feeder\" project for Nupedia.[26]\n",
    "\n",
    "Launch and growth\n",
    "The domains wikipedia.com (later redirecting to wikipedia.org) and wikipedia.org were registered on January 12, 2001,[27] and January 13, 2001,[28] respectively. Wikipedia was launched on January 15, 2001[20] as a single English-language edition at www.wikipedia.com,[29] and was announced by Sanger on the Nupedia mailing list.[23] The name originated from a blend of the words wiki and encyclopedia.[30][31] Its integral policy of \"neutral point-of-view\"[32] was codified in its first few months. Otherwise, there were initially relatively few rules, and it operated independently of Nupedia.[23] Bomis originally intended it as a business for profit.[33]\n",
    "\n",
    "\n",
    "The Wikipedia home page on December 20, 2001[note 5]\n",
    "\n",
    "Graphs are unavailable due to technical issues. There is more info on Phabricator and on MediaWiki wiki.\n",
    "English Wikipedia editors with >100 edits per month[34]\n",
    "\n",
    "Graphs are unavailable due to technical issues. There is more info on Phabricator and on MediaWiki wiki.\n",
    "Number of English Wikipedia articles[35]\n",
    "Wikipedia gained early contributors from Nupedia,  \"\"\"\n",
    "   \n",
    "# Tokenizing the text \n",
    "stopWords = set(stopwords.words(\"english\")) \n",
    "words = word_tokenize(text) \n",
    "   \n",
    "# Creating a frequency table to keep the  \n",
    "# score of each word \n",
    "   \n",
    "freqTable = dict() \n",
    "for word in words: \n",
    "    word = word.lower() \n",
    "    if word in stopWords: \n",
    "        continue\n",
    "    if word in freqTable: \n",
    "        freqTable[word] += 1\n",
    "    else: \n",
    "        freqTable[word] = 1\n",
    "   \n",
    "# Creating a dictionary to keep the score \n",
    "# of each sentence \n",
    "sentences = sent_tokenize(text) \n",
    "sentenceValue = dict() \n",
    "   \n",
    "for sentence in sentences: \n",
    "    for word, freq in freqTable.items(): \n",
    "        if word in sentence.lower(): \n",
    "            if sentence in sentenceValue: \n",
    "                sentenceValue[sentence] += freq \n",
    "            else: \n",
    "                sentenceValue[sentence] = freq \n",
    "   \n",
    " # Assuming you have a dictionary 'sentenceValue' with sentence values\n",
    "\n",
    "# Initialize sumValues to zero\n",
    "sumValues = 0\n",
    "\n",
    "# Iterate through sentenceValue dictionary\n",
    "for sentence in sentenceValue:\n",
    "    # Accumulate sentence values\n",
    "    sumValues += sentenceValue[sentence]\n",
    "\n",
    "# Check if there are sentences (to avoid division by zero)\n",
    "if len(sentenceValue) > 0:\n",
    "    # Calculate average value of a sentence from the original text\n",
    "    average = int(sumValues / len(sentenceValue))\n",
    "\n",
    "    # Initialize the 'summary' variable\n",
    "    summary = ''\n",
    "\n",
    "    # Iterate through sentenceValue dictionary again to select sentences for the summary\n",
    "    for sentence in sentenceValue:\n",
    "        if (sentence in sentenceValue) and (sentenceValue[sentence] > (1.2 * average)):\n",
    "            summary += \" \" + sentence\n",
    "\n",
    "    # Print the summary\n",
    "    print(\"Summary:\", summary)\n",
    "else:\n",
    "    # Handle the case where there are no sentences\n",
    "    print(\"No sentences found. Unable to calculate the average.\")"
   ]
  },
  {
   "cell_type": "code",
   "execution_count": null,
   "id": "5dd9609e",
   "metadata": {},
   "outputs": [],
   "source": []
  }
 ],
 "metadata": {
  "kernelspec": {
   "display_name": "Python 3 (ipykernel)",
   "language": "python",
   "name": "python3"
  },
  "language_info": {
   "codemirror_mode": {
    "name": "ipython",
    "version": 3
   },
   "file_extension": ".py",
   "mimetype": "text/x-python",
   "name": "python",
   "nbconvert_exporter": "python",
   "pygments_lexer": "ipython3",
   "version": "3.11.4"
  }
 },
 "nbformat": 4,
 "nbformat_minor": 5
}
